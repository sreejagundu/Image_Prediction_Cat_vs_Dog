{
  "nbformat": 4,
  "nbformat_minor": 0,
  "metadata": {
    "colab": {
      "provenance": [],
      "authorship_tag": "ABX9TyNC9/SbQxdEmn+GS0Tn9nrm",
      "include_colab_link": true
    },
    "kernelspec": {
      "name": "python3",
      "display_name": "Python 3"
    },
    "language_info": {
      "name": "python"
    }
  },
  "cells": [
    {
      "cell_type": "markdown",
      "metadata": {
        "id": "view-in-github",
        "colab_type": "text"
      },
      "source": [
        "<a href=\"https://colab.research.google.com/github/sreejagundu/Image_Prediction_Cat_vs_Dog/blob/main/EICT_Problem_Assignment_1.ipynb\" target=\"_parent\"><img src=\"https://colab.research.google.com/assets/colab-badge.svg\" alt=\"Open In Colab\"/></a>"
      ]
    },
    {
      "cell_type": "code",
      "source": [
        "!mkdir -p ~/.kaggle\n",
        "!cp kaggle.json ~/.kaggle/"
      ],
      "metadata": {
        "id": "5xd_bIbyUjwg"
      },
      "execution_count": 1,
      "outputs": []
    },
    {
      "cell_type": "code",
      "source": [
        "!kaggle datasets download -d tongpython/cat-and-dog"
      ],
      "metadata": {
        "colab": {
          "base_uri": "https://localhost:8080/"
        },
        "id": "wncn7dTzUwb2",
        "outputId": "39d3b8bc-143e-432a-bfc3-2496a6fc5e56"
      },
      "execution_count": 2,
      "outputs": [
        {
          "output_type": "stream",
          "name": "stdout",
          "text": [
            "Warning: Your Kaggle API key is readable by other users on this system! To fix this, you can run 'chmod 600 /root/.kaggle/kaggle.json'\n",
            "Downloading cat-and-dog.zip to /content\n",
            " 99% 216M/218M [00:01<00:00, 103MB/s]\n",
            "100% 218M/218M [00:01<00:00, 120MB/s]\n"
          ]
        }
      ]
    },
    {
      "cell_type": "code",
      "source": [
        "import zipfile\n",
        "zip_ref = zipfile.ZipFile('/content/cat-and-dog.zip','r')\n",
        "zip_ref.extractall('/content')\n",
        "zip_ref.close()"
      ],
      "metadata": {
        "id": "L_ma6DPZUwYP"
      },
      "execution_count": 3,
      "outputs": []
    },
    {
      "cell_type": "code",
      "source": [
        "import pandas as pd\n",
        "import numpy as np\n",
        "import os\n",
        "import tensorflow as tf\n",
        "import keras\n",
        "import sklearn"
      ],
      "metadata": {
        "id": "wIMUcjm-ykuv"
      },
      "execution_count": 4,
      "outputs": []
    },
    {
      "cell_type": "code",
      "source": [
        "from keras.preprocessing.image import ImageDataGenerator\n",
        "from keras.models import Sequential\n",
        "from keras.layers import Dense\n",
        "from keras.layers import Dropout\n",
        "from keras.layers import Flatten\n",
        "from keras.layers import Conv2D\n",
        "from keras.layers import MaxPooling2D"
      ],
      "metadata": {
        "id": "lOL6A02809FG"
      },
      "execution_count": 5,
      "outputs": []
    },
    {
      "cell_type": "code",
      "source": [
        "IMAGE_SIZE = 128\n",
        "BATCH_SIZE = 32\n",
        "\n",
        "# Images preprocessing before training\n",
        "train_datagen = ImageDataGenerator(rescale = 1./255,\n",
        "                                   shear_range = 0.2,\n",
        "                                   zoom_range = 0.2,\n",
        "                                   horizontal_flip = True)\n",
        "\n",
        "test_datagen = ImageDataGenerator(rescale = 1./255)\n",
        "\n",
        "training_set = train_datagen.flow_from_directory(\"/content/training_set/training_set\",\n",
        "                                                 target_size = (IMAGE_SIZE, IMAGE_SIZE),\n",
        "                                                 batch_size = BATCH_SIZE,\n",
        "                                                 class_mode = 'binary')\n",
        "\n",
        "test_set = test_datagen.flow_from_directory(\"/content/test_set/test_set\",\n",
        "                                            target_size = (IMAGE_SIZE, IMAGE_SIZE),\n",
        "                                            batch_size = BATCH_SIZE,\n",
        "                                            class_mode = 'binary')"
      ],
      "metadata": {
        "colab": {
          "base_uri": "https://localhost:8080/"
        },
        "id": "ls-gVXvu1HPJ",
        "outputId": "e451e1f3-6e7d-44a1-b76c-a4d374af6367"
      },
      "execution_count": 50,
      "outputs": [
        {
          "output_type": "stream",
          "name": "stdout",
          "text": [
            "Found 8005 images belonging to 2 classes.\n",
            "Found 2023 images belonging to 2 classes.\n"
          ]
        }
      ]
    },
    {
      "cell_type": "code",
      "source": [
        "model = Sequential()\n",
        "model.add(Conv2D(32, (3, 3), input_shape=(IMAGE_SIZE, IMAGE_SIZE, 3), activation=\"relu\"))\n",
        "model.add(MaxPooling2D(pool_size=(2, 2)))\n",
        "model.add(Conv2D(32, (3, 3), activation=\"relu\"))\n",
        "model.add(MaxPooling2D(pool_size=(2, 2)))\n",
        "model.add(Conv2D(32, (3, 3), activation=\"relu\"))\n",
        "model.add(MaxPooling2D(pool_size=(2, 2)))\n",
        "model.add(Flatten())\n",
        "\n",
        "model.add(Dense(units= 64, activation=\"relu\"))\n",
        "model.add(Dropout(0.5))\n",
        "model.add(Dense(units = 1, activation = 'sigmoid'))\n",
        "\n",
        "model.compile(optimizer=\"adam\", loss=\"binary_crossentropy\", metrics=[\"accuracy\"])"
      ],
      "metadata": {
        "id": "-zZEixRT22Cu"
      },
      "execution_count": 51,
      "outputs": []
    },
    {
      "cell_type": "code",
      "source": [
        "model.fit(x = training_set, validation_data = test_set, epochs = 5)"
      ],
      "metadata": {
        "colab": {
          "base_uri": "https://localhost:8080/"
        },
        "id": "CeRTjgVg3VDK",
        "outputId": "9cb23438-d179-47f0-b4e2-8d16835d5221"
      },
      "execution_count": 52,
      "outputs": [
        {
          "output_type": "stream",
          "name": "stdout",
          "text": [
            "Epoch 1/5\n",
            "251/251 [==============================] - 211s 828ms/step - loss: 0.6656 - accuracy: 0.5914 - val_loss: 0.6342 - val_accuracy: 0.6298\n",
            "Epoch 2/5\n",
            "251/251 [==============================] - 207s 825ms/step - loss: 0.6135 - accuracy: 0.6630 - val_loss: 0.5682 - val_accuracy: 0.7173\n",
            "Epoch 3/5\n",
            "251/251 [==============================] - 203s 807ms/step - loss: 0.5864 - accuracy: 0.6879 - val_loss: 0.5247 - val_accuracy: 0.7553\n",
            "Epoch 4/5\n",
            "251/251 [==============================] - 198s 790ms/step - loss: 0.5506 - accuracy: 0.7218 - val_loss: 0.4964 - val_accuracy: 0.7494\n",
            "Epoch 5/5\n",
            "251/251 [==============================] - 207s 825ms/step - loss: 0.5217 - accuracy: 0.7387 - val_loss: 0.5192 - val_accuracy: 0.7692\n"
          ]
        },
        {
          "output_type": "execute_result",
          "data": {
            "text/plain": [
              "<keras.src.callbacks.History at 0x7a1382b3e3b0>"
            ]
          },
          "metadata": {},
          "execution_count": 52
        }
      ]
    },
    {
      "cell_type": "code",
      "source": [
        "from keras.preprocessing import image\n",
        "import matplotlib.pyplot as plt"
      ],
      "metadata": {
        "id": "lHJTwKCv_ffb"
      },
      "execution_count": 53,
      "outputs": []
    },
    {
      "cell_type": "code",
      "source": [
        "print(\"The model class indices are: \", training_set.class_indices)"
      ],
      "metadata": {
        "colab": {
          "base_uri": "https://localhost:8080/"
        },
        "id": "l7R2l3w13U4c",
        "outputId": "5b8851d1-2a75-41ea-ecef-1c47955424cd"
      },
      "execution_count": 54,
      "outputs": [
        {
          "output_type": "stream",
          "name": "stdout",
          "text": [
            "The model class indices are:  {'cats': 0, 'dogs': 1}\n"
          ]
        }
      ]
    },
    {
      "cell_type": "code",
      "source": [
        "# testing on a single input\n",
        "test_image = image.load_img(\"/content/test_set/test_set/dogs/dog.4088.jpg\", target_size = (IMAGE_SIZE, IMAGE_SIZE))\n",
        "test_image = image.img_to_array(test_image)\n",
        "test_image = np.expand_dims(test_image, axis = 0)\n",
        "print(test_image)\n",
        "result = model.predict(test_image)\n",
        "if result[0][0] == 1:\n",
        "    prediction = 'dog'\n",
        "else:\n",
        "    prediction = 'cat'\n",
        "\n"
      ],
      "metadata": {
        "colab": {
          "base_uri": "https://localhost:8080/"
        },
        "id": "JRSh9iVO3U1t",
        "outputId": "23da2f3f-dc11-4562-b8af-38f63e17046f"
      },
      "execution_count": 60,
      "outputs": [
        {
          "output_type": "stream",
          "name": "stdout",
          "text": [
            "[[[[182.  39.  33.]\n",
            "   [178.  36.  35.]\n",
            "   [184.  27.  34.]\n",
            "   ...\n",
            "   [239. 230. 213.]\n",
            "   [214. 205. 190.]\n",
            "   [213. 210. 195.]]\n",
            "\n",
            "  [[192.  31.  36.]\n",
            "   [183.  33.  34.]\n",
            "   [189.  36.  38.]\n",
            "   ...\n",
            "   [210. 203. 187.]\n",
            "   [217. 209. 196.]\n",
            "   [238. 228. 218.]]\n",
            "\n",
            "  [[199.  34.  41.]\n",
            "   [194.  34.  36.]\n",
            "   [195.  46.  42.]\n",
            "   ...\n",
            "   [218. 212. 198.]\n",
            "   [214. 208. 196.]\n",
            "   [243. 230. 221.]]\n",
            "\n",
            "  ...\n",
            "\n",
            "  [[ 75. 107.  83.]\n",
            "   [ 64.  80.  51.]\n",
            "   [118. 122.  89.]\n",
            "   ...\n",
            "   [ 68.  95.  80.]\n",
            "   [ 67.  85.  73.]\n",
            "   [ 71.  90.  71.]]\n",
            "\n",
            "  [[ 50.  86.  60.]\n",
            "   [ 59.  80.  49.]\n",
            "   [134. 141. 107.]\n",
            "   ...\n",
            "   [101. 128. 113.]\n",
            "   [ 86. 104.  92.]\n",
            "   [ 70.  92.  80.]]\n",
            "\n",
            "  [[ 96. 135. 108.]\n",
            "   [102. 129.  96.]\n",
            "   [ 86. 102.  65.]\n",
            "   ...\n",
            "   [ 79. 106.  89.]\n",
            "   [ 87. 105.  89.]\n",
            "   [133. 158. 162.]]]]\n",
            "1/1 [==============================] - 0s 25ms/step\n"
          ]
        }
      ]
    },
    {
      "cell_type": "code",
      "source": [
        "print(prediction)"
      ],
      "metadata": {
        "colab": {
          "base_uri": "https://localhost:8080/"
        },
        "id": "uxuktz92BfiG",
        "outputId": "7a370068-339e-4982-cda2-3b551d201e59"
      },
      "execution_count": 61,
      "outputs": [
        {
          "output_type": "stream",
          "name": "stdout",
          "text": [
            "dog\n"
          ]
        }
      ]
    }
  ]
}